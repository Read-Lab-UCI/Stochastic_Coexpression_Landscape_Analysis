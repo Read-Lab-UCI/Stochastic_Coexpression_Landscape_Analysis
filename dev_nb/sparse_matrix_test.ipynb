{
 "cells": [
  {
   "cell_type": "code",
   "execution_count": 45,
   "metadata": {},
   "outputs": [],
   "source": [
    "import numpy as np\n",
    "import scipy.sparse as scis\n",
    "from collections import deque\n",
    "from numba.decorators import jit"
   ]
  },
  {
   "cell_type": "code",
   "execution_count": 33,
   "metadata": {},
   "outputs": [],
   "source": [
    "# Python methods\n",
    "def deque_append(i):\n",
    "    d = deque()\n",
    "    for m in range(i):\n",
    "        d.append(m)\n",
    "    np.array(d)\n",
    "        \n",
    "def list_append(i):\n",
    "    d = []\n",
    "    for m in range(i):\n",
    "        d.append(m)\n",
    "    np.array(d)\n",
    "    \n",
    "def deque_allocate1(i, max_elem):\n",
    "    d = deque(maxlen=max_elem)\n",
    "    for m in range(i):\n",
    "        d.append(m)\n",
    "    np.array(d)\n",
    "        \n",
    "def numpy_allocate1(i, max_elem):\n",
    "    d = np.zeros(max_elem)\n",
    "    for m in range(i):\n",
    "        d[m]=m\n",
    "        \n",
    "def numpy_allocate2(i, max_elem):\n",
    "    d = np.zeros(max_elem)\n",
    "    for j,m in enumerate(range(i)):\n",
    "        d[j] = m"
   ]
  },
  {
   "cell_type": "code",
   "execution_count": 46,
   "metadata": {},
   "outputs": [],
   "source": [
    "# numba with jit\n",
    "@jit('void(i8)')\n",
    "def numba_deque_append(i):\n",
    "    d = deque()\n",
    "    for m in range(i):\n",
    "        d.append(m)\n",
    "    np.array(d)\n",
    "        \n",
    "@jit('void(i8)')\n",
    "def numba_list_append(i):\n",
    "    d = []\n",
    "    for m in range(i):\n",
    "        d.append(m)\n",
    "    np.array(d)\n",
    "\n",
    "@jit('void(i8, i8)')\n",
    "def numba_deque_allocate1(i, max_elem):\n",
    "    d = deque(maxlen=max_elem)\n",
    "    for m in range(i):\n",
    "        d.append(m)\n",
    "    np.array(d)\n",
    "    \n",
    "@jit('void(i8, i8)')\n",
    "def numba_numpy_allocate(i, max_elem):\n",
    "    d = np.zeros(max_elem)\n",
    "    for m in range(i):\n",
    "        d[m]=m"
   ]
  },
  {
   "cell_type": "code",
   "execution_count": 54,
   "metadata": {},
   "outputs": [],
   "source": [
    "# worst case for N=20 and 16 rxns\n",
    "k = 63504\n",
    "max_size = 63504"
   ]
  },
  {
   "cell_type": "code",
   "execution_count": 39,
   "metadata": {},
   "outputs": [],
   "source": [
    "# test case\n",
    "k = 10000\n",
    "max_size = 10010"
   ]
  },
  {
   "cell_type": "code",
   "execution_count": 55,
   "metadata": {},
   "outputs": [
    {
     "name": "stdout",
     "output_type": "stream",
     "text": [
      "python methods\n",
      "deque_append: 16 ms ± 1.43 ms per loop (mean ± std. dev. of 7 runs, 100 loops each)\n",
      "\n",
      "list_append: 13.5 ms ± 132 µs per loop (mean ± std. dev. of 7 runs, 100 loops each)\n",
      "\n",
      "deque_allocate1: 18.5 ms ± 2.74 ms per loop (mean ± std. dev. of 7 runs, 100 loops each)\n",
      "\n",
      "numpy_allocate1: 9.75 ms ± 313 µs per loop (mean ± std. dev. of 7 runs, 100 loops each)\n",
      "\n",
      "numpy_allocate2: 13.1 ms ± 550 µs per loop (mean ± std. dev. of 7 runs, 100 loops each)\n",
      "\n"
     ]
    }
   ],
   "source": [
    "print('python methods')\n",
    "print('deque_append', end=': ')\n",
    "%timeit deque_append(k)\n",
    "print()\n",
    "print('list_append', end=': ')\n",
    "%timeit list_append(k)\n",
    "print()\n",
    "print('deque_allocate1', end=': ')\n",
    "%timeit deque_allocate1(k, max_size)\n",
    "print()\n",
    "print('numpy_allocate1', end=': ')\n",
    "%timeit numpy_allocate1(k, max_size)    \n",
    "print()\n",
    "print('numpy_allocate2', end=': ')\n",
    "%timeit numpy_allocate2(k, max_size)\n",
    "print()"
   ]
  },
  {
   "cell_type": "code",
   "execution_count": 56,
   "metadata": {},
   "outputs": [
    {
     "name": "stdout",
     "output_type": "stream",
     "text": [
      "numba methods\n",
      "numba_deque_append: 20.3 ms ± 357 µs per loop (mean ± std. dev. of 7 runs, 10 loops each)\n",
      "\n",
      "numba_list_append: 1.97 ms ± 31.6 µs per loop (mean ± std. dev. of 7 runs, 1000 loops each)\n",
      "\n",
      "numba_deque_allocate1: 20.2 ms ± 387 µs per loop (mean ± std. dev. of 7 runs, 10 loops each)\n",
      "\n",
      "numba_numpy_allocate: 104 µs ± 1.81 µs per loop (mean ± std. dev. of 7 runs, 10000 loops each)\n",
      "\n"
     ]
    }
   ],
   "source": [
    "print('numba methods')\n",
    "print('numba_deque_append', end=': ')\n",
    "%timeit numba_deque_append(k)\n",
    "print()\n",
    "print('numba_list_append', end=': ')\n",
    "%timeit numba_list_append(k)\n",
    "print()\n",
    "print('numba_deque_allocate1', end=': ')\n",
    "%timeit numba_deque_allocate1(k, max_size)    \n",
    "print()\n",
    "print('numba_numpy_allocate', end=': ')\n",
    "%timeit numba_numpy_allocate(k, max_size)\n",
    "print()"
   ]
  },
  {
   "cell_type": "markdown",
   "metadata": {},
   "source": [
    "### Selected for now"
   ]
  },
  {
   "cell_type": "code",
   "execution_count": 53,
   "metadata": {},
   "outputs": [
    {
     "name": "stdout",
     "output_type": "stream",
     "text": [
      "numba_numpy_allocate: 106 µs ± 3.03 µs per loop (mean ± std. dev. of 7 runs, 10000 loops each)\n",
      "\n"
     ]
    }
   ],
   "source": [
    "print('numba_numpy_allocate', end=': ')\n",
    "%timeit numba_numpy_allocate(k, max_size)\n",
    "print()"
   ]
  },
  {
   "cell_type": "code",
   "execution_count": null,
   "metadata": {},
   "outputs": [],
   "source": []
  }
 ],
 "metadata": {
  "kernelspec": {
   "display_name": "Python 3",
   "language": "python",
   "name": "python3"
  },
  "language_info": {
   "codemirror_mode": {
    "name": "ipython",
    "version": 3
   },
   "file_extension": ".py",
   "mimetype": "text/x-python",
   "name": "python",
   "nbconvert_exporter": "python",
   "pygments_lexer": "ipython3",
   "version": "3.6.4"
  }
 },
 "nbformat": 4,
 "nbformat_minor": 2
}
