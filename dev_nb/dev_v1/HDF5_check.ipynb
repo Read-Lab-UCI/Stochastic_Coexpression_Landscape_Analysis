{
 "cells": [
  {
   "cell_type": "code",
   "execution_count": 24,
   "metadata": {},
   "outputs": [],
   "source": [
    "import os\n",
    "import argparse\n",
    "import importlib\n",
    "import h5py\n",
    "import multiprocessing as mp\n",
    "import numpy as np\n",
    "import pandas as pd\n",
    "\n",
    "import scipy.io as sio\n",
    "from scipy.sparse import csc_matrix"
   ]
  },
  {
   "cell_type": "code",
   "execution_count": 2,
   "metadata": {},
   "outputs": [],
   "source": [
    "file_method_path = '../Simulation_Results/Trial_0002-py/'\n",
    "hdf5_method_path = '../Simulation_Results/Trial_0001-py/'"
   ]
  },
  {
   "cell_type": "markdown",
   "metadata": {},
   "source": [
    "### Checking probvecs"
   ]
  },
  {
   "cell_type": "code",
   "execution_count": 15,
   "metadata": {},
   "outputs": [],
   "source": [
    "file_probvec = sio.loadmat(file_method_path+'ProbVec/set_00001.mat')['ProbVec']"
   ]
  },
  {
   "cell_type": "code",
   "execution_count": 16,
   "metadata": {},
   "outputs": [],
   "source": [
    "h5_save_path = hdf5_method_path + 'simulation_data.h5'\n",
    "h5_file = h5py.File(h5_save_path, \"a\")\n",
    "\n",
    "hdf5_probvec = np.array(h5_file['ProbVec/set_00001'])\n",
    "\n",
    "h5_file.close()"
   ]
  },
  {
   "cell_type": "code",
   "execution_count": 17,
   "metadata": {},
   "outputs": [
    {
     "data": {
      "text/plain": [
       "True"
      ]
     },
     "execution_count": 17,
     "metadata": {},
     "output_type": "execute_result"
    }
   ],
   "source": [
    "np.allclose(file_probvec, hdf5_probvec)"
   ]
  },
  {
   "cell_type": "markdown",
   "metadata": {},
   "source": [
    "### Checking reconstructed rate matrix"
   ]
  },
  {
   "cell_type": "code",
   "execution_count": 19,
   "metadata": {},
   "outputs": [],
   "source": [
    "file_rate_matrix = sio.loadmat(file_method_path+'RateMatrix/set_00001.mat')['RateMatrix']"
   ]
  },
  {
   "cell_type": "code",
   "execution_count": 25,
   "metadata": {},
   "outputs": [],
   "source": [
    "h5_save_path = hdf5_method_path + 'simulation_data.h5'\n",
    "h5_file = h5py.File(h5_save_path, \"a\")\n",
    "\n",
    "data = np.array(h5_file['RateMatrix/set_00001/data'])\n",
    "indptr = np.array(h5_file['RateMatrix/set_00001/indptr'])\n",
    "indices = np.array(h5_file['RateMatrix/set_00001/indices'])\n",
    "matrix_shape = tuple(h5_file['RateMatrix/set_00001'].attrs['shape'])\n",
    "\n",
    "h5_file.close()\n",
    "\n",
    "hdf5_rate_matrix = csc_matrix((data, indices, indptr), shape=matrix_shape)"
   ]
  },
  {
   "cell_type": "code",
   "execution_count": 30,
   "metadata": {},
   "outputs": [
    {
     "data": {
      "text/plain": [
       "True"
      ]
     },
     "execution_count": 30,
     "metadata": {},
     "output_type": "execute_result"
    }
   ],
   "source": [
    "np.allclose(file_rate_matrix.todense(), hdf5_rate_matrix.todense())"
   ]
  },
  {
   "cell_type": "code",
   "execution_count": null,
   "metadata": {},
   "outputs": [],
   "source": []
  }
 ],
 "metadata": {
  "kernelspec": {
   "display_name": "Python 3",
   "language": "python",
   "name": "python3"
  },
  "language_info": {
   "codemirror_mode": {
    "name": "ipython",
    "version": 3
   },
   "file_extension": ".py",
   "mimetype": "text/x-python",
   "name": "python",
   "nbconvert_exporter": "python",
   "pygments_lexer": "ipython3",
   "version": "3.6.4"
  }
 },
 "nbformat": 4,
 "nbformat_minor": 2
}
