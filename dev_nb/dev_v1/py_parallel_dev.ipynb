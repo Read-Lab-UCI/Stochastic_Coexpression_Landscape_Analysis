{
 "cells": [
  {
   "cell_type": "code",
   "execution_count": 1,
   "metadata": {},
   "outputs": [],
   "source": [
    "import os\n",
    "import multiprocessing as mp\n",
    "import pandas as pd\n",
    "import scipy.io as sio\n",
    "\n",
    "from models import Compute_RateMatrix_MISAEx_parallel\n",
    "from models import Compute_RateMatrix_MISAEx\n",
    "from RateMatrix_Calcs import calc_probvec_prob2d"
   ]
  },
  {
   "cell_type": "code",
   "execution_count": 2,
   "metadata": {},
   "outputs": [],
   "source": [
    "def _workers_count():\n",
    "    cpu_count = 0\n",
    "    try:\n",
    "        cpu_count = len(os.sched_getaffinity(0))\n",
    "    except AttributeError:\n",
    "        cpu_count = os.cpu_count()\n",
    "    return cpu_count"
   ]
  },
  {
   "cell_type": "markdown",
   "metadata": {},
   "source": [
    "### Parallel"
   ]
  },
  {
   "cell_type": "code",
   "execution_count": 3,
   "metadata": {},
   "outputs": [],
   "source": [
    "trialpath = '/Users/camerongallivan/Research/Hybrid_PBN_Project/Compute_Rate_Matrix_Python/outputs_tmp/Trial_0001-py'\n",
    "outputPath = os.path.abspath(trialpath)\n",
    "paramPath = os.path.join(outputPath, 'paramValues.csv')"
   ]
  },
  {
   "cell_type": "code",
   "execution_count": 4,
   "metadata": {},
   "outputs": [],
   "source": [
    "def parallel_wrapper(row):\n",
    "    # Building Paths\n",
    "    rateMatrixPath = os.path.join(row[-1], 'RateMatrix')\n",
    "    eigenValuesPath =  os.path.join(row[-1], 'EigenValues')\n",
    "    probVecPath =  os.path.join(row[-1], 'ProbVec')\n",
    "    prob2DPath = os.path.join(row[-1], 'Prob2D')\n",
    "    timeScalesPath = os.path.join(row[-1], 'TimeScales')\n",
    "    saveFileName = 'set_{:05}.mat'.format(row[0])\n",
    "    \n",
    "    # Calculating\n",
    "    RateMatrix, Dimensions, StatesDict = Compute_RateMatrix_MISAEx_parallel.main(row)\n",
    "    eigenValues, probVec, prob2D, timeScales = calc_probvec_prob2d(RateMatrix, Dimensions)\n",
    "    # Saving\n",
    "    sio.savemat(os.path.join(rateMatrixPath, saveFileName), {'RateMatrix': RateMatrix, 'Dimensions': Dimensions})\n",
    "    sio.savemat(os.path.join(eigenValuesPath, saveFileName), {'EigenValues': eigenValues})\n",
    "    sio.savemat(os.path.join(probVecPath, saveFileName), {'ProbVec': probVec})\n",
    "    sio.savemat(os.path.join(prob2DPath, saveFileName), {'Prob2d': prob2D})\n",
    "    sio.savemat(os.path.join(timeScalesPath, saveFileName), {'TimeScales': timeScales})"
   ]
  },
  {
   "cell_type": "code",
   "execution_count": 5,
   "metadata": {},
   "outputs": [],
   "source": [
    "# Workers\n",
    "num_workers = _workers_count()"
   ]
  },
  {
   "cell_type": "code",
   "execution_count": 6,
   "metadata": {},
   "outputs": [
    {
     "name": "stdout",
     "output_type": "stream",
     "text": [
      "CPU times: user 65.4 ms, sys: 37.9 ms, total: 103 ms\n",
      "Wall time: 36 s\n"
     ]
    }
   ],
   "source": [
    "%%time\n",
    "#def SimulationWrapper1(paramPath, outputPath):\n",
    "parametersDF = pd.read_csv(paramPath, index_col=0)\n",
    "parametersDF['OutputPath'] = outputPath\n",
    "\n",
    "tups = parametersDF.itertuples(name=None)\n",
    "\n",
    "# Initiating pool\n",
    "pool1 = mp.Pool(processes=num_workers)\n",
    "results1 = pool1.map(parallel_wrapper, tups)\n",
    "\n",
    "# Not including for now\n",
    "# np.save(os.path.join(outputPath, 'StatesDict.npy'), StatesDict)"
   ]
  },
  {
   "cell_type": "code",
   "execution_count": 11,
   "metadata": {},
   "outputs": [
    {
     "name": "stdout",
     "output_type": "stream",
     "text": [
      "CPU times: user 139 ms, sys: 73.6 ms, total: 213 ms\n",
      "Wall time: 35.7 s\n"
     ]
    }
   ],
   "source": [
    "%%time\n",
    "#def SimulationWrapper1(paramPath, outputPath):\n",
    "parametersDF = pd.read_csv(paramPath, index_col=0)\n",
    "parametersDF['OutputPath'] = outputPath\n",
    "\n",
    "tups = parametersDF.itertuples(name=None)\n",
    "\n",
    "# Workers\n",
    "num_workers = _workers_count()\n",
    "\n",
    "# Initiating pool\n",
    "pool2 = mp.Pool(processes=num_workers)\n",
    "results = pool2.map_async(parallel_wrapper, tups).get()"
   ]
  },
  {
   "cell_type": "code",
   "execution_count": 12,
   "metadata": {},
   "outputs": [
    {
     "name": "stdout",
     "output_type": "stream",
     "text": [
      "CPU times: user 55 s, sys: 926 ms, total: 55.9 s\n",
      "Wall time: 36.3 s\n"
     ]
    }
   ],
   "source": [
    "%%time\n",
    "parametersDF = pd.read_csv(paramPath, index_col=0)\n",
    "\n",
    "rateMatrixPath = os.path.join(outputPath, 'RateMatrix')\n",
    "eigenValuesPath =  os.path.join(outputPath, 'EigenValues')\n",
    "probVecPath =  os.path.join(outputPath, 'ProbVec')\n",
    "prob2DPath = os.path.join(outputPath, 'Prob2D')\n",
    "timeScalesPath = os.path.join(outputPath, 'TimeScales')\n",
    "\n",
    "for row in parametersDF.itertuples():\n",
    "    #print(row)\n",
    "    saveFileName = 'set_{:05}.mat'.format(row.Index)\n",
    "\n",
    "    # Calculating and saving rate matrix\n",
    "    RateMatrix, Dimensions, StatesDict = Compute_RateMatrix_MISAEx.main(row)\n",
    "    eigenValues, probVec, prob2D, timeScales = calc_probvec_prob2d(RateMatrix, Dimensions)\n",
    "    \n",
    "    sio.savemat(os.path.join(rateMatrixPath, saveFileName), {'RateMatrix': RateMatrix, 'Dimensions': Dimensions})    \n",
    "    sio.savemat(os.path.join(eigenValuesPath, saveFileName), {'EigenValues': eigenValues})\n",
    "    sio.savemat(os.path.join(probVecPath, saveFileName), {'ProbVec': probVec})\n",
    "    sio.savemat(os.path.join(prob2DPath, saveFileName), {'Prob2d': prob2D})\n",
    "    sio.savemat(os.path.join(timeScalesPath, saveFileName), {'TimeScales': timeScales})"
   ]
  },
  {
   "cell_type": "code",
   "execution_count": null,
   "metadata": {},
   "outputs": [],
   "source": []
  }
 ],
 "metadata": {
  "kernelspec": {
   "display_name": "Python 3",
   "language": "python",
   "name": "python3"
  },
  "language_info": {
   "codemirror_mode": {
    "name": "ipython",
    "version": 3
   },
   "file_extension": ".py",
   "mimetype": "text/x-python",
   "name": "python",
   "nbconvert_exporter": "python",
   "pygments_lexer": "ipython3",
   "version": "3.6.4"
  }
 },
 "nbformat": 4,
 "nbformat_minor": 2
}
