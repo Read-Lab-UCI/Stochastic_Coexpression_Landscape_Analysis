{
 "cells": [
  {
   "cell_type": "markdown",
   "metadata": {},
   "source": [
    "### Timing to determing if process is cpu or i/o bound\n",
    "##### Results indicate current code is CPU limited"
   ]
  },
  {
   "cell_type": "code",
   "execution_count": 2,
   "metadata": {},
   "outputs": [],
   "source": [
    "%load_ext line_profiler"
   ]
  },
  {
   "cell_type": "code",
   "execution_count": 1,
   "metadata": {},
   "outputs": [],
   "source": [
    "import os\n",
    "import pandas as pd\n",
    "import scipy.io as sio\n",
    "import numpy as np\n",
    "from scipy.sparse import coo_matrix\n",
    "from numba.decorators import jit\n",
    "from scipy.sparse.linalg import eigs"
   ]
  },
  {
   "cell_type": "code",
   "execution_count": 3,
   "metadata": {},
   "outputs": [],
   "source": [
    "_parameterFile_ = os.path.abspath('/Users/camerongallivan/Research/Hybrid_PBN_Project/Compute_Rate_Matrix_Python/outputs_tmp/Trial_0001-py/paramValues.csv')\n",
    "_outputPath_ = os.path.abspath('/Users/camerongallivan/Research/Hybrid_PBN_Project/Compute_Rate_Matrix_Python/outputs_tmp/Trial_0001-py')"
   ]
  },
  {
   "cell_type": "code",
   "execution_count": 13,
   "metadata": {},
   "outputs": [
    {
     "name": "stdout",
     "output_type": "stream",
     "text": [
      "<class 'scipy.sparse.csc.csc_matrix'>\n",
      "<class 'scipy.sparse.csc.csc_matrix'>\n",
      "<class 'scipy.sparse.csc.csc_matrix'>\n",
      "<class 'scipy.sparse.csc.csc_matrix'>\n",
      "<class 'scipy.sparse.csc.csc_matrix'>\n",
      "<class 'scipy.sparse.csc.csc_matrix'>\n",
      "<class 'scipy.sparse.csc.csc_matrix'>\n",
      "<class 'scipy.sparse.csc.csc_matrix'>\n",
      "1.43 s ± 53.8 ms per loop (mean ± std. dev. of 7 runs, 1 loop each)\n"
     ]
    }
   ],
   "source": [
    "#%lprun -f SimulationWrapper SimulationWrapper(_parameterFile_, _outputPath_)\n",
    "%timeit SimulationWrapper(_parameterFile_, _outputPath_)"
   ]
  },
  {
   "cell_type": "markdown",
   "metadata": {},
   "source": [
    "### Modified SimulationWrapper.py"
   ]
  },
  {
   "cell_type": "code",
   "execution_count": 12,
   "metadata": {},
   "outputs": [],
   "source": [
    "def SimulationWrapper(_parameterFile, _outputPath):\n",
    "    parametersDF = pd.read_csv(_parameterFile, index_col=0)\n",
    "    outputPath = os.path.abspath(_outputPath)\n",
    "\n",
    "    rateMatrixPath = os.path.join(outputPath, 'RateMatrix')\n",
    "    eigenValuesPath =  os.path.join(outputPath, 'EigenValues')\n",
    "    probVecPath =  os.path.join(outputPath, 'ProbVec')\n",
    "    prob2DPath = os.path.join(outputPath, 'Prob2D')\n",
    "    timeScalesPath = os.path.join(outputPath, 'TimeScales')\n",
    "\n",
    "    for row in parametersDF.itertuples():\n",
    "        #print(row)\n",
    "        saveFileName = 'set_{:05}.mat'.format(row.Index)\n",
    "\n",
    "        # Calculating and saving rate matrix\n",
    "        RateMatrix, Dimensions, StatesDict = main(row)\n",
    "        print(type(RateMatrix))\n",
    "        sio.savemat(os.path.join(rateMatrixPath, saveFileName), {'RateMatrix': RateMatrix, 'Dimensions': Dimensions}, do_compression=True)\n",
    "\n",
    "        # Calculating and saving ProbVec, Prob2D and eigenvalues\n",
    "        eigenValues, probVec, prob2D, timeScales = calc_probvec_prob2d(RateMatrix, Dimensions)\n",
    "        sio.savemat(os.path.join(eigenValuesPath, saveFileName), {'EigenValues': eigenValues})\n",
    "        sio.savemat(os.path.join(probVecPath, saveFileName), {'ProbVec': probVec})\n",
    "        sio.savemat(os.path.join(prob2DPath, saveFileName), {'Prob2d': prob2D})\n",
    "        sio.savemat(os.path.join(timeScalesPath, saveFileName), {'TimeScales': timeScales})\n",
    "\n",
    "    np.save(os.path.join(outputPath, 'StatesDict.npy'), StatesDict)\n"
   ]
  },
  {
   "cell_type": "markdown",
   "metadata": {},
   "source": [
    "### Compute_RateMatrix_MISAEx.py"
   ]
  },
  {
   "cell_type": "code",
   "execution_count": 6,
   "metadata": {},
   "outputs": [],
   "source": [
    "def MISA_Ex_Rxn(parameters):\n",
    "    # Parameters and model name\n",
    "    model = 'MISAEx'\n",
    "    paramSetNum = parameters.Index\n",
    "    N = parameters.N\n",
    "    g0 = parameters.g0\n",
    "    g1 = parameters.g1\n",
    "    kd = parameters.kd\n",
    "    ha = parameters.ha\n",
    "    hr = parameters.hr\n",
    "    fa = parameters.fa\n",
    "    fr = parameters.fr\n",
    "    model_name = model + '_N{}'.format(N)\n",
    "\n",
    "    # Copy number lists\n",
    "    A = list(range(N+1))\n",
    "    B = list(range(N+1))\n",
    "\n",
    "    # Defining Gene States\n",
    "    GeneA_00, GeneA_01, GeneA_10 = [0,1], [0,1], [0,1]\n",
    "    GeneB_00, GeneB_01, GeneB_10 = [0,1], [0,1], [0,1]\n",
    "    GeneA_States=[[1,0,0], [0,1,0], [0,0,1]]\n",
    "    GeneB_States=[[1,0,0], [0,1,0], [0,0,1]]\n",
    "\n",
    "    # Number of Microstate = CopyA * CopyB * GeneStatesA * GeneStatesB\n",
    "    NumStates = (N+1) * (N+1) * 3 * 3\n",
    "\n",
    "    # Initializing Rxn dict to hold Reactions, Species and Parameters\n",
    "    Rxn = {}\n",
    "    NumRxn = 16\n",
    "    NumSpec = 8\n",
    "\n",
    "    Rxn['Parameters'] = np.array([g0,g1,g0,ha,hr,fa,fr,kd,g0,g1,g0,ha,hr,fa,fr,kd])\n",
    "    Rxn['Law'] = np.zeros((NumRxn, NumSpec), dtype=int)\n",
    "    Rxn['Stoich'] = np.zeros((NumRxn, NumSpec), dtype=int)\n",
    "\n",
    "    # Reaction Rate Laws, number of each species involved in the reaction\n",
    "    Rxn['Law'][0,2]=1\n",
    "    Rxn['Law'][1,3]=1\n",
    "    Rxn['Law'][2,4]=1\n",
    "    Rxn['Law'][3,0]=2\n",
    "    Rxn['Law'][3,2]=1\n",
    "    Rxn['Law'][4,1]=2\n",
    "    Rxn['Law'][4,2]=1\n",
    "    Rxn['Law'][5,3]=1\n",
    "    Rxn['Law'][6,4]=1\n",
    "    Rxn['Law'][7,0]=1\n",
    "\n",
    "    Rxn['Law'][8,5]=1\n",
    "    Rxn['Law'][9,6]=1\n",
    "    Rxn['Law'][10,7]=1\n",
    "    Rxn['Law'][11,1]=2\n",
    "    Rxn['Law'][11,5]=1\n",
    "    Rxn['Law'][12,0]=2\n",
    "    Rxn['Law'][12,5]=1\n",
    "    Rxn['Law'][13,6]=1\n",
    "    Rxn['Law'][14,7]=1\n",
    "    Rxn['Law'][15,1]=1\n",
    "\n",
    "    # Reaction Stoichiometry, change in species resulting from reaction\n",
    "    Rxn['Stoich'][0,0] = 1\n",
    "    Rxn['Stoich'][1,0] = 1\n",
    "    Rxn['Stoich'][2,0] = 1\n",
    "    Rxn['Stoich'][3,0] = -2\n",
    "    Rxn['Stoich'][4,1] = -2\n",
    "    Rxn['Stoich'][3,2] = -1\n",
    "    Rxn['Stoich'][3,3] = 1\n",
    "    Rxn['Stoich'][4,2] = -1\n",
    "    Rxn['Stoich'][4,4] = 1\n",
    "    Rxn['Stoich'][5,0] = 2\n",
    "    Rxn['Stoich'][6,1] = 2\n",
    "    Rxn['Stoich'][5,3] = -1\n",
    "    Rxn['Stoich'][5,2] = 1\n",
    "    Rxn['Stoich'][6,4] = -1\n",
    "    Rxn['Stoich'][6,2] = 1\n",
    "    Rxn['Stoich'][7,0] = -1\n",
    "\n",
    "    Rxn['Stoich'][8,1] = 1\n",
    "    Rxn['Stoich'][9,1] = 1\n",
    "    Rxn['Stoich'][10,1] = 1\n",
    "    Rxn['Stoich'][11,1] = -2\n",
    "    Rxn['Stoich'][12,0] = -2\n",
    "    Rxn['Stoich'][11,5] = -1\n",
    "    Rxn['Stoich'][11,6] = 1\n",
    "    Rxn['Stoich'][12,5] = -1\n",
    "    Rxn['Stoich'][12,7] = 1\n",
    "    Rxn['Stoich'][13,1] = 2\n",
    "    Rxn['Stoich'][14,0] = 2\n",
    "    Rxn['Stoich'][13,6] = -1\n",
    "    Rxn['Stoich'][13,5] = 1\n",
    "    Rxn['Stoich'][14,7] = -1\n",
    "    Rxn['Stoich'][14,5] = 1\n",
    "    Rxn['Stoich'][15,1] = -1\n",
    "\n",
    "    return Rxn, A, B, NumStates, NumSpec, NumRxn, GeneA_States, GeneB_States\n",
    "\n",
    "\n",
    "def Determine_StatesDict(Dimensions, GeneA_States, GeneB_States):\n",
    "    # original stateslist creation, returns ordered numpy array\n",
    "    States_dict = {}\n",
    "\n",
    "    for i in range(Dimensions[0]):\n",
    "        for j in range(Dimensions[1]):\n",
    "            for k in range(Dimensions[2]):\n",
    "                for l in range(Dimensions[3]):\n",
    "                    Cur = (i, j, *GeneA_States[k], *GeneB_States[l])\n",
    "                    CurInd = np.ravel_multi_index((i, j, k, l), Dimensions, order='F')\n",
    "                    States_dict[Cur] = CurInd\n",
    "    return States_dict\n",
    "\n",
    "\n",
    "def Calc_RateMatrix( Rxn, StatesDict, NumStates, NumRxn):\n",
    "    StatesKeys = set(StatesDict.keys())\n",
    "    MaxNumInteractions = NumStates * NumRxn\n",
    "    CurInd_vals = np.zeros((MaxNumInteractions))\n",
    "    DestInd_vals = np.zeros((MaxNumInteractions))\n",
    "    RateMatrix_vals = np.zeros((MaxNumInteractions))\n",
    "\n",
    "    n=0\n",
    "    for state in StatesKeys:\n",
    "        Cur = np.array(state, dtype=int)\n",
    "        CurInd = StatesDict[state]\n",
    "        for m in range(NumRxn):\n",
    "            TestDest = tuple(Cur + Rxn['Stoich'][m,:])\n",
    "            if TestDest in StatesKeys:\n",
    "                n=n+1\n",
    "                DestInd = StatesDict[TestDest]\n",
    "                CurInd_vals, DestInd_vals, RateMatrix_vals = Update_RateMatrix(CurInd_vals, DestInd_vals, RateMatrix_vals, Cur, CurInd, DestInd, Rxn['Parameters'], Rxn['Law'], m, n)\n",
    "\n",
    "    RateMatrix = coo_matrix((RateMatrix_vals, (DestInd_vals, CurInd_vals)), shape=(NumStates, NumStates)).tolil()\n",
    "    RateMatrix.setdiag((RateMatrix.diagonal() - RateMatrix.sum(axis=0)).A[0])\n",
    "    RateMatrix = RateMatrix.tocsc()\n",
    "    \n",
    "    return RateMatrix\n",
    "\n",
    "def main(inputs):\n",
    "    Rxn, A, B, NumStates, NumSpec, NumRxn, GeneA_States, GeneB_States = MISA_Ex_Rxn(inputs)\n",
    "    Dimensions = [len(A), len(B), len(GeneA_States), len(GeneB_States)]\n",
    "    StatesDict = Determine_StatesDict(Dimensions, GeneA_States, GeneB_States)\n",
    "    RateMatrix = Calc_RateMatrix( Rxn, StatesDict, NumStates, NumRxn)\n",
    "\n",
    "    return RateMatrix, Dimensions, StatesDict\n"
   ]
  },
  {
   "cell_type": "markdown",
   "metadata": {},
   "source": [
    "### common_calcs.py"
   ]
  },
  {
   "cell_type": "code",
   "execution_count": 7,
   "metadata": {},
   "outputs": [],
   "source": [
    "@jit('Tuple((f8[:], f8[:], f8[:]))(f8[:], f8[:], f8[:], i8[:], i8, i8, f8[:], i8[:,:], i8, i8)')\n",
    "def Update_RateMatrix(CurInd_vals, DestInd_vals, RateMatrix_vals, Cur, CurInd, DestInd, parameters, laws, m, n):\n",
    "    par = parameters[m]\n",
    "    law = laws[m,:]\n",
    "    for i in range(Cur.shape[0]):\n",
    "        tmp1 = Cur[i]**law[i]\n",
    "        tmp2 = 1\n",
    "        for j in range(law[i]):\n",
    "            tmp2 = tmp2 * (j+1)\n",
    "        par = par * (tmp1/tmp2)\n",
    "\n",
    "    CurInd_vals[n] = CurInd\n",
    "    DestInd_vals[n] = DestInd\n",
    "    RateMatrix_vals[n] = par\n",
    "\n",
    "    return CurInd_vals, DestInd_vals, RateMatrix_vals"
   ]
  },
  {
   "cell_type": "markdown",
   "metadata": {},
   "source": [
    "### RateMatrix_Calcs.py"
   ]
  },
  {
   "cell_type": "code",
   "execution_count": 9,
   "metadata": {},
   "outputs": [],
   "source": [
    "def calc_probvec_prob2d(matrix, dimensions, dims_to_reduce=(2,3), nsig=15, sigma=1e-12):\n",
    "    eigen_values, right_eigen_vectors = eigs(matrix, k=nsig, sigma=sigma)\n",
    "    prob_vec = right_eigen_vectors[:,1]/np.sum(right_eigen_vectors[:,1])\n",
    "\n",
    "    prob_full_d = prob_vec.reshape(dimensions, order='F')\n",
    "    prob_2d = np.sum(prob_full_d, axis=dims_to_reduce)\n",
    "\n",
    "    time_scales = -np.divide(1, eigen_values[1:].real)\n",
    "\n",
    "    return eigen_values, prob_vec, prob_2d, time_scales"
   ]
  },
  {
   "cell_type": "markdown",
   "metadata": {},
   "source": [
    "##### Timing results for converting lil-matrix to different sparse type before calculating eigs, used to be seperate cells"
   ]
  },
  {
   "cell_type": "code",
   "execution_count": 7,
   "metadata": {},
   "outputs": [],
   "source": [
    "print('none')\n",
    "%timeit SimulationWrapper(_parameterFile_, _outputPath_)\n",
    "# 4.03 s ± 233 ms per loop (mean ± std. dev. of 7 runs, 1 loop each)\n",
    "\n",
    "print('csc')\n",
    "%timeit SimulationWrapper(_parameterFile_, _outputPath_)\n",
    "\n",
    "# 3.73 s ± 73 ms per loop (mean ± std. dev. of 7 runs, 1 loop each)\n",
    "\n",
    "print('csr')\n",
    "%timeit SimulationWrapper(_parameterFile_, _outputPath_)\n",
    "\n",
    "# 3.84 s ± 85.2 ms per loop (mean ± std. dev. of 7 runs, 1 loop each)"
   ]
  },
  {
   "cell_type": "code",
   "execution_count": null,
   "metadata": {},
   "outputs": [],
   "source": []
  }
 ],
 "metadata": {
  "kernelspec": {
   "display_name": "Python 3",
   "language": "python",
   "name": "python3"
  },
  "language_info": {
   "codemirror_mode": {
    "name": "ipython",
    "version": 3
   },
   "file_extension": ".py",
   "mimetype": "text/x-python",
   "name": "python",
   "nbconvert_exporter": "python",
   "pygments_lexer": "ipython3",
   "version": "3.6.4"
  }
 },
 "nbformat": 4,
 "nbformat_minor": 2
}
