{
 "cells": [
  {
   "cell_type": "code",
   "execution_count": 41,
   "metadata": {},
   "outputs": [],
   "source": [
    "%matplotlib inline"
   ]
  },
  {
   "cell_type": "code",
   "execution_count": 7,
   "metadata": {},
   "outputs": [],
   "source": [
    "import os\n",
    "import io\n",
    "import h5py\n",
    "import numpy as np\n",
    "import pandas as pd\n",
    "import scipy.io as sio\n",
    "import matplotlib.pyplot as plt\n",
    "from matplotlib.ticker import FormatStrFormatter\n",
    "\n",
    "from PIL import Image"
   ]
  },
  {
   "cell_type": "code",
   "execution_count": 2,
   "metadata": {},
   "outputs": [],
   "source": [
    "def rcparam():\n",
    "    plt.rc('axes', linewidth=4.0, labelsize=18)\n",
    "    # axes and axes labels properties\n",
    "    plt.rc('xtick.major', size=10)  # length for x\n",
    "    plt.rc('ytick.major', size=10)  # length for y\n",
    "    plt.rc('lines', mew=5)\n",
    "    plt.rc('lines', lw=4)  # line thickness\n",
    "    plt.rc('ytick', labelsize=12)  # ytick label size\n",
    "    plt.rc('xtick', labelsize=12)  # xtick label size\n",
    "    plt.rc('xtick.major', pad=5)  # xtick padding distance\n",
    "    plt.rc('ytick.major', pad=5)  # ytick padding distance"
   ]
  },
  {
   "cell_type": "markdown",
   "metadata": {},
   "source": [
    "### Attempt 3 create hdf5 version directly fromm bytesio buffer"
   ]
  },
  {
   "cell_type": "code",
   "execution_count": 31,
   "metadata": {},
   "outputs": [],
   "source": [
    "def plot_2d_heatmap_buf(data, title=None, axis_labels=None, axis_tick_format='%.0f', force_matching_ticks=True, save_fig=False, fig_name='HeatMap.png', **kwargs):\n",
    "    rcparam()\n",
    "    font = {'fontsize': 20,\n",
    "            'fontweight' : 'bold',\n",
    "            'verticalalignment': 'baseline'}\n",
    "\n",
    "    # Figure Creation\n",
    "    fig, ax = plt.subplots()\n",
    "    if 'invert_color' in kwargs:\n",
    "        if kwargs['invert_color']:\n",
    "            plt.set_cmap('viridis_r')\n",
    "    if 'absolute_max' in kwargs:\n",
    "        cax = ax.pcolormesh(data, vmin=0., vmax=kwargs['absolute_max'])\n",
    "    else:\n",
    "        cax = ax.pcolormesh(data)\n",
    "    cbar = fig.colorbar(cax)\n",
    "\n",
    "    # Adding labels\n",
    "    if title:\n",
    "        plt.title(title, fontdict=font)\n",
    "    if axis_labels:\n",
    "        plt.xlabel(axis_labels[0])\n",
    "        plt.ylabel(axis_labels[1])\n",
    "    if force_matching_ticks:\n",
    "        xticks = ax.get_xticks()[0:-1]\n",
    "        ax.set_yticks(xticks)\n",
    "\n",
    "    ax.xaxis.set_major_formatter(FormatStrFormatter(axis_tick_format))\n",
    "    ax.yaxis.set_major_formatter(FormatStrFormatter(axis_tick_format))\n",
    "    \n",
    "    buf = io.BytesIO()\n",
    "    if save_fig:\n",
    "        plt.savefig(buf, transparent=True, dpi=100, bbox_inches='tight', pad_inches=0.1, format='png')\n",
    "    plt.close()\n",
    "    return buf"
   ]
  },
  {
   "cell_type": "code",
   "execution_count": 32,
   "metadata": {},
   "outputs": [],
   "source": [
    "h5_sim_path = '../Simulation_Results/Trial_0001-py/simulation_data.h5'\n",
    "h5_output_path = 'outputs/analysis_outputs.h5'"
   ]
  },
  {
   "cell_type": "code",
   "execution_count": 33,
   "metadata": {},
   "outputs": [],
   "source": [
    "# Loading a prob2d\n",
    "sim_h5_file = h5py.File(h5_sim_path, \"r\")\n",
    "prob2d = np.array(sim_h5_file['Prob2D/set_00001'])\n",
    "sim_h5_file.close()"
   ]
  },
  {
   "cell_type": "code",
   "execution_count": 34,
   "metadata": {},
   "outputs": [],
   "source": [
    "buf = plot_2d_heatmap_buf(prob2d, title='Probability', save_fig=True)\n",
    "buf.seek(0)\n",
    "img = Image.open(buf)\n",
    "img = np.asarray((img), dtype=\"uint8\")"
   ]
  },
  {
   "cell_type": "code",
   "execution_count": 35,
   "metadata": {},
   "outputs": [],
   "source": [
    "analysis_h5_file = h5py.File(h5_output_path, \"w\")\n",
    "\n",
    "dset = analysis_h5_file.create_dataset('image_test', data=img, shape=img.shape, maxshape=img.shape, dtype='uint8', compression=\"gzip\")\n",
    "dset.attrs['CLASS'] = np.string_('IMAGE')\n",
    "dset.attrs['IMAGE_VERSION'] = np.string_('1.2')\n",
    "dset.attrs['IMAGE_MINMAXRANGE'] = np.asarray([0, 255], dtype='uint8')\n",
    "dset.attrs['IMAGE_SUBCLASS'] = np.string_('IMAGE_TRUECOLOR')\n",
    "dset.attrs['INTERLACE_MODE'] = np.string_('INTERLACE_PIXEL')\n",
    "\n",
    "analysis_h5_file.close()"
   ]
  },
  {
   "cell_type": "markdown",
   "metadata": {},
   "source": [
    "### Attempt 2 convert png to hdf5 directly with PIL/image"
   ]
  },
  {
   "cell_type": "code",
   "execution_count": 13,
   "metadata": {},
   "outputs": [],
   "source": [
    "def plot_2d_heatmap_file(data, title=None, axis_labels=None, axis_tick_format='%.0f', force_matching_ticks=True, save_fig=False, fig_name='HeatMap.png', **kwargs):\n",
    "    rcparam()\n",
    "    font = {'fontsize': 20,\n",
    "            'fontweight' : 'bold',\n",
    "            'verticalalignment': 'baseline'}\n",
    "\n",
    "    # Figure Creation\n",
    "    fig, ax = plt.subplots()\n",
    "    if 'invert_color' in kwargs:\n",
    "        if kwargs['invert_color']:\n",
    "            plt.set_cmap('viridis_r')\n",
    "    if 'absolute_max' in kwargs:\n",
    "        cax = ax.pcolormesh(data, vmin=0., vmax=kwargs['absolute_max'])\n",
    "    else:\n",
    "        cax = ax.pcolormesh(data)\n",
    "    cbar = fig.colorbar(cax)\n",
    "\n",
    "    # Adding labels\n",
    "    if title:\n",
    "        plt.title(title, fontdict=font)\n",
    "    if axis_labels:\n",
    "        plt.xlabel(axis_labels[0])\n",
    "        plt.ylabel(axis_labels[1])\n",
    "    if force_matching_ticks:\n",
    "        xticks = ax.get_xticks()[0:-1]\n",
    "        ax.set_yticks(xticks)\n",
    "\n",
    "    ax.xaxis.set_major_formatter(FormatStrFormatter(axis_tick_format))\n",
    "    ax.yaxis.set_major_formatter(FormatStrFormatter(axis_tick_format))\n",
    "    \n",
    "    if save_fig:\n",
    "        plt.savefig(fig_name, transparent=True, dpi=150, bbox_inches='tight', pad_inches=0.1, format='png')\n",
    "    #plt.show()\n",
    "    plt.close()"
   ]
  },
  {
   "cell_type": "code",
   "execution_count": 14,
   "metadata": {},
   "outputs": [],
   "source": [
    "h5_sim_path = '../Simulation_Results/Trial_0001-py/simulation_data.h5'\n",
    "h5_output_path = 'outputs/analysis_outputs.h5'\n",
    "fig_name = 'outputs/HeatMap.png'"
   ]
  },
  {
   "cell_type": "code",
   "execution_count": 15,
   "metadata": {},
   "outputs": [],
   "source": [
    "# Loading a prob2d\n",
    "sim_h5_file = h5py.File(h5_sim_path, \"r\")\n",
    "prob2d = np.array(sim_h5_file['Prob2D/set_00001'])\n",
    "sim_h5_file.close()\n",
    "# Saving image file to disk\n",
    "plot_2d_heatmap_file(prob2d, title='Probability', save_fig=True, fig_name=fig_name)"
   ]
  },
  {
   "cell_type": "code",
   "execution_count": 23,
   "metadata": {},
   "outputs": [
    {
     "data": {
      "text/plain": [
       "1847580"
      ]
     },
     "execution_count": 23,
     "metadata": {},
     "output_type": "execute_result"
    }
   ],
   "source": [
    "#img = cv2.imread(fig_name)[...,::-1]\n",
    "img = Image.open(fig_name)\n",
    "img = np.asarray((img), dtype=\"uint8\")"
   ]
  },
  {
   "cell_type": "code",
   "execution_count": 25,
   "metadata": {},
   "outputs": [],
   "source": [
    "analysis_h5_file = h5py.File(h5_output_path, \"w\")\n",
    "\n",
    "dset = analysis_h5_file.create_dataset('image_test', data=img, shape=img.shape, maxshape=img.shape, dtype='uint8', compression=\"gzip\")\n",
    "dset.attrs['CLASS'] = np.string_('IMAGE')\n",
    "dset.attrs['IMAGE_VERSION'] = np.string_('1.2')\n",
    "dset.attrs['IMAGE_MINMAXRANGE'] = np.asarray([0, 255], dtype='uint8')\n",
    "dset.attrs['IMAGE_SUBCLASS'] = np.string_('IMAGE_TRUECOLOR')\n",
    "dset.attrs['INTERLACE_MODE'] = np.string_('INTERLACE_PIXEL')\n",
    "\n",
    "analysis_h5_file.close()"
   ]
  },
  {
   "cell_type": "markdown",
   "metadata": {},
   "source": [
    "## Attempt 1 convert png to hdf5 directly with numpy"
   ]
  },
  {
   "cell_type": "code",
   "execution_count": 3,
   "metadata": {},
   "outputs": [],
   "source": [
    "def plot_2d_heatmap(data, title=None, axis_labels=None, axis_tick_format='%.0f', force_matching_ticks=True, save_fig=False, fig_name='outputs/HeatMap.png', **kwargs):\n",
    "    rcparam()\n",
    "    font = {'fontsize': 20,\n",
    "            'fontweight' : 'bold',\n",
    "            'verticalalignment': 'baseline'}\n",
    "\n",
    "    # Figure Creation\n",
    "    fig, ax = plt.subplots()\n",
    "    if 'invert_color' in kwargs:\n",
    "        if kwargs['invert_color']:\n",
    "            plt.set_cmap('viridis_r')\n",
    "    if 'absolute_max' in kwargs:\n",
    "        cax = ax.pcolormesh(data, vmin=0., vmax=kwargs['absolute_max'])\n",
    "    else:\n",
    "        cax = ax.pcolormesh(data)\n",
    "    cbar = fig.colorbar(cax)\n",
    "\n",
    "    # Adding labels\n",
    "    if title:\n",
    "        plt.title(title, fontdict=font)\n",
    "    if axis_labels:\n",
    "        plt.xlabel(axis_labels[0])\n",
    "        plt.ylabel(axis_labels[1])\n",
    "    if force_matching_ticks:\n",
    "        xticks = ax.get_xticks()[0:-1]\n",
    "        ax.set_yticks(xticks)\n",
    "\n",
    "    ax.xaxis.set_major_formatter(FormatStrFormatter(axis_tick_format))\n",
    "    ax.yaxis.set_major_formatter(FormatStrFormatter(axis_tick_format))\n",
    "    \n",
    "    #buf = io.BytesIO()\n",
    "    if save_fig:\n",
    "        plt.savefig(fig_name, transparent=True, bbox_inches='tight', pad_inches=0.1, format='png')\n",
    "        #plt.savefig(buf, format='png')\n",
    "        #plt.savefig(buf, transparent=True, bbox_inches='tight', pad_inches=0.1, format='png')\n",
    "    plt.show()\n",
    "    #plt.close()\n",
    "    #buf.seek(0)\n",
    "    #return buf.read()\n",
    "    #return buf\n",
    "    "
   ]
  },
  {
   "cell_type": "code",
   "execution_count": 12,
   "metadata": {},
   "outputs": [],
   "source": [
    "# https://github.com/raguiar2/jpg_to_h5/blob/master/jpg_to_h5.py\n",
    "def convert_file(input_dir, filename, output_dir):\n",
    "    filepath = input_dir + '/' + filename\n",
    "    fin = open(filepath, 'rb')\n",
    "    binary_data = fin.read()\n",
    "    new_filepath = output_dir + '/' + filename[:-4] + '.hdf5'\n",
    "    f = h5py.File(new_filepath)\n",
    "    dt = h5py.special_dtype(vlen=np.dtype('uint8'))\n",
    "    dset = f.create_dataset('binary_data', (100, ), dtype=dt)\n",
    "    #dset[0] = np.fromstring(binary_data, dtype='uint8')\n",
    "    dset[0] = np.frombuffer(binary_data, dtype='uint8')"
   ]
  },
  {
   "cell_type": "code",
   "execution_count": 8,
   "metadata": {},
   "outputs": [],
   "source": [
    "h5_sim_path = '../Simulation_Results/Trial_0001-py/simulation_data.h5'"
   ]
  },
  {
   "cell_type": "code",
   "execution_count": 9,
   "metadata": {},
   "outputs": [],
   "source": [
    "sim_h5_file = h5py.File(h5_sim_path, \"r\")\n",
    "prob2d = np.array(sim_h5_file['Prob2D/set_00001'])\n",
    "sim_h5_file.close()"
   ]
  },
  {
   "cell_type": "code",
   "execution_count": 10,
   "metadata": {},
   "outputs": [
    {
     "data": {
      "image/png": "[encoded data removed]",
      "text/plain": [
       "<Figure size 432x288 with 2 Axes>"
      ]
     },
     "metadata": {
      "needs_background": "light"
     },
     "output_type": "display_data"
    },
    {
     "data": {
      "text/plain": [
       "<_io.BytesIO at 0x10e9405c8>"
      ]
     },
     "execution_count": 10,
     "metadata": {},
     "output_type": "execute_result"
    }
   ],
   "source": [
    "plot_2d_heatmap(prob2d, title='Probability', save_fig=True)"
   ]
  },
  {
   "cell_type": "code",
   "execution_count": null,
   "metadata": {},
   "outputs": [],
   "source": [
    "input_dir = 'outputs'\n",
    "filename = 'Heatmap.png'\n",
    "output_dir = 'outputs'\n",
    "convert_file(input_dir, filename, output_dir)"
   ]
  },
  {
   "cell_type": "code",
   "execution_count": 28,
   "metadata": {},
   "outputs": [],
   "source": [
    "hdf5_file = 'outputs/Heatmap.hdf5'\n",
    "h5_file = h5py.File(hdf5_file, \"r\")\n",
    "\n",
    "#print(list(h5_file.keys()))\n",
    "img = h5_file['binary_data'].value[0]\n",
    "\n",
    "h5_file.close()"
   ]
  },
  {
   "cell_type": "code",
   "execution_count": 30,
   "metadata": {},
   "outputs": [],
   "source": [
    "img.tofile('outputs/Heatmap2.png')"
   ]
  }
 ],
 "metadata": {
  "kernelspec": {
   "display_name": "Python 3",
   "language": "python",
   "name": "python3"
  },
  "language_info": {
   "codemirror_mode": {
    "name": "ipython",
    "version": 3
   },
   "file_extension": ".py",
   "mimetype": "text/x-python",
   "name": "python",
   "nbconvert_exporter": "python",
   "pygments_lexer": "ipython3",
   "version": "3.6.4"
  }
 },
 "nbformat": 4,
 "nbformat_minor": 2
}
