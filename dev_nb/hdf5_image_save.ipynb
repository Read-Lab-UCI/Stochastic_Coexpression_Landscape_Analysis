{
 "cells": [
  {
   "cell_type": "code",
   "execution_count": 16,
   "metadata": {},
   "outputs": [],
   "source": [
    "%matplotlib inline"
   ]
  },
  {
   "cell_type": "code",
   "execution_count": 1,
   "metadata": {},
   "outputs": [],
   "source": [
    "import os\n",
    "import io\n",
    "import argparse\n",
    "import importlib\n",
    "import h5py\n",
    "import numpy as np\n",
    "import pandas as pd\n",
    "import scipy.io as sio\n",
    "import multiprocessing as mp\n",
    "import matplotlib.pyplot as plt\n",
    "from matplotlib.ticker import FormatStrFormatter\n",
    "\n",
    "from PIL import Image"
   ]
  },
  {
   "cell_type": "code",
   "execution_count": 2,
   "metadata": {},
   "outputs": [],
   "source": [
    "def rcparam():\n",
    "    plt.rc('axes', linewidth=4.0, labelsize=18)\n",
    "    # axes and axes labels properties\n",
    "    plt.rc('xtick.major', size=10)  # length for x\n",
    "    plt.rc('ytick.major', size=10)  # length for y\n",
    "    plt.rc('lines', mew=5)\n",
    "    plt.rc('lines', lw=4)  # line thickness\n",
    "    plt.rc('ytick', labelsize=12)  # ytick label size\n",
    "    plt.rc('xtick', labelsize=12)  # xtick label size\n",
    "    plt.rc('xtick.major', pad=5)  # xtick padding distance\n",
    "    plt.rc('ytick.major', pad=5)  # ytick padding distance\n",
    "\n",
    "\n",
    "def plot_2d_heatmap(data, title=None, axis_labels=None, axis_tick_format='%.0f', force_matching_ticks=True, save_fig=False, fig_name='HeatMap.png', **kwargs):\n",
    "    rcparam()\n",
    "    font = {'fontsize': 20,\n",
    "            'fontweight' : 'bold',\n",
    "            'verticalalignment': 'baseline'}\n",
    "\n",
    "    # Figure Creation\n",
    "    fig, ax = plt.subplots()\n",
    "    if 'invert_color' in kwargs:\n",
    "        if kwargs['invert_color']:\n",
    "            plt.set_cmap('viridis_r')\n",
    "    if 'absolute_max' in kwargs:\n",
    "        cax = ax.pcolormesh(data, vmin=0., vmax=kwargs['absolute_max'])\n",
    "    else:\n",
    "        cax = ax.pcolormesh(data)\n",
    "    cbar = fig.colorbar(cax)\n",
    "\n",
    "    # Adding labels\n",
    "    if title:\n",
    "        plt.title(title, fontdict=font)\n",
    "    if axis_labels:\n",
    "        plt.xlabel(axis_labels[0])\n",
    "        plt.ylabel(axis_labels[1])\n",
    "    if force_matching_ticks:\n",
    "        xticks = ax.get_xticks()[0:-1]\n",
    "        ax.set_yticks(xticks)\n",
    "\n",
    "    ax.xaxis.set_major_formatter(FormatStrFormatter(axis_tick_format))\n",
    "    ax.yaxis.set_major_formatter(FormatStrFormatter(axis_tick_format))\n",
    "    \n",
    "    #buf = io.BytesIO()\n",
    "    if save_fig:\n",
    "        plt.savefig(fig_name, transparent=True, bbox_inches='tight', pad_inches=0.1, format='png')\n",
    "        #plt.savefig(buf, format='png')\n",
    "    #plt.show()\n",
    "    plt.close()\n",
    "    #buf.seek(0)\n",
    "    #return buf.read()\n",
    "    "
   ]
  },
  {
   "cell_type": "code",
   "execution_count": 3,
   "metadata": {},
   "outputs": [],
   "source": [
    "h5_sim_path = '../Simulation_Results/Trial_0001-py/simulation_data.h5'\n",
    "h5_analysis_path = '../Simulation_Results/Trial_0001-py/Analysis/analysis_outputs.h5'"
   ]
  },
  {
   "cell_type": "code",
   "execution_count": 4,
   "metadata": {},
   "outputs": [],
   "source": [
    "sim_h5_file = h5py.File(h5_sim_path, \"r\")\n",
    "prob2d = np.array(sim_h5_file['Prob2D/set_00001'])\n",
    "sim_h5_file.close()"
   ]
  },
  {
   "cell_type": "code",
   "execution_count": 6,
   "metadata": {},
   "outputs": [],
   "source": [
    "plot_2d_heatmap(prob2d, title='Probability', save_fig=True)\n",
    "\n",
    "img = Image.open(\"HeatMap.png\")\n",
    "data = np.asarray((img), dtype=\"uint8\")"
   ]
  },
  {
   "cell_type": "code",
   "execution_count": 8,
   "metadata": {},
   "outputs": [],
   "source": [
    "analysis_h5_file = h5py.File(h5_analysis_path, \"w\")\n",
    "\n",
    "analysis_h5_file.create_dataset('image_test', data=data, dtype='uint8')\n",
    "\n",
    "dset = analysis_h5_file.get(\"image_test\")\n",
    "dset.attrs['CLASS'] = np.string_('IMAGE')\n",
    "dset.attrs['IMAGE_VERSION'] = np.string_('1.2')\n",
    "arr = np.asarray([0, 255], dtype=np.uint8)\n",
    "dset.attrs['IMAGE_MINMAXRANGE'] = list(arr)\n",
    "dset.attrs['IMAGE_SUBCLASS'] = np.string_('IMAGE_TRUECOLOR')\n",
    "dset.attrs['INTERLACE_MODE'] = np.string_('INTERLACE_PLANE')\n",
    "\n",
    "analysis_h5_file.close()"
   ]
  },
  {
   "cell_type": "code",
   "execution_count": null,
   "metadata": {},
   "outputs": [],
   "source": []
  }
 ],
 "metadata": {
  "kernelspec": {
   "display_name": "Python 3",
   "language": "python",
   "name": "python3"
  },
  "language_info": {
   "codemirror_mode": {
    "name": "ipython",
    "version": 3
   },
   "file_extension": ".py",
   "mimetype": "text/x-python",
   "name": "python",
   "nbconvert_exporter": "python",
   "pygments_lexer": "ipython3",
   "version": "3.6.4"
  }
 },
 "nbformat": 4,
 "nbformat_minor": 2
}
