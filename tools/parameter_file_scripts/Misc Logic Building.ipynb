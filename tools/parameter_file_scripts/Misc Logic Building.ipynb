{
 "cells": [
  {
   "cell_type": "code",
   "execution_count": 2,
   "metadata": {},
   "outputs": [],
   "source": [
    "import itertools\n",
    "import numpy as np"
   ]
  },
  {
   "cell_type": "code",
   "execution_count": 25,
   "metadata": {},
   "outputs": [],
   "source": [
    "h_vals = np.power(10, np.linspace(0, 3, 9))\n",
    "f_vals = np.power(10, np.linspace(0, 5, 9))\n",
    "\n",
    "h_vals_combinations = list(itertools.product(h_vals, repeat=2))\n",
    "f_vals_combinations = list(itertools.product(f_vals, repeat=2))\n",
    "\n",
    "variedBindingMatrix = list(itertools.product(h_vals_combinations, f_vals_combinations))\n",
    "variedBindingMatrix = [i[0] + i[1] for i in variedBindingMatrix]\n"
   ]
  },
  {
   "cell_type": "markdown",
   "metadata": {},
   "source": [
    "### Creating varying g Logic"
   ]
  },
  {
   "cell_type": "code",
   "execution_count": 2,
   "metadata": {},
   "outputs": [],
   "source": [
    "gs_1 = [1e-3, 7.]\n",
    "gs_2 = [1e-3, 4.]"
   ]
  },
  {
   "cell_type": "code",
   "execution_count": 6,
   "metadata": {},
   "outputs": [],
   "source": [
    "variedLogicMatrix_a = list(itertools.product(gs_1, repeat=4))\n",
    "variedLogicMatrix_b = list(itertools.product(gs_2, repeat=4))\n",
    "\n",
    "variedLogicMatrix = zip(variedLogicMatrix_a, variedLogicMatrix_b)\n",
    "variedLogicMatrix = [i[0] + i[1] for i in variedLogicMatrix]"
   ]
  },
  {
   "cell_type": "code",
   "execution_count": 7,
   "metadata": {},
   "outputs": [
    {
     "data": {
      "text/plain": [
       "array([[1.e-03, 1.e-03, 1.e-03, 1.e-03, 1.e-03, 1.e-03, 1.e-03, 1.e-03],\n",
       "       [1.e-03, 1.e-03, 1.e-03, 7.e+00, 1.e-03, 1.e-03, 1.e-03, 4.e+00],\n",
       "       [1.e-03, 1.e-03, 7.e+00, 1.e-03, 1.e-03, 1.e-03, 4.e+00, 1.e-03],\n",
       "       [1.e-03, 1.e-03, 7.e+00, 7.e+00, 1.e-03, 1.e-03, 4.e+00, 4.e+00],\n",
       "       [1.e-03, 7.e+00, 1.e-03, 1.e-03, 1.e-03, 4.e+00, 1.e-03, 1.e-03],\n",
       "       [1.e-03, 7.e+00, 1.e-03, 7.e+00, 1.e-03, 4.e+00, 1.e-03, 4.e+00],\n",
       "       [1.e-03, 7.e+00, 7.e+00, 1.e-03, 1.e-03, 4.e+00, 4.e+00, 1.e-03],\n",
       "       [1.e-03, 7.e+00, 7.e+00, 7.e+00, 1.e-03, 4.e+00, 4.e+00, 4.e+00],\n",
       "       [7.e+00, 1.e-03, 1.e-03, 1.e-03, 4.e+00, 1.e-03, 1.e-03, 1.e-03],\n",
       "       [7.e+00, 1.e-03, 1.e-03, 7.e+00, 4.e+00, 1.e-03, 1.e-03, 4.e+00],\n",
       "       [7.e+00, 1.e-03, 7.e+00, 1.e-03, 4.e+00, 1.e-03, 4.e+00, 1.e-03],\n",
       "       [7.e+00, 1.e-03, 7.e+00, 7.e+00, 4.e+00, 1.e-03, 4.e+00, 4.e+00],\n",
       "       [7.e+00, 7.e+00, 1.e-03, 1.e-03, 4.e+00, 4.e+00, 1.e-03, 1.e-03],\n",
       "       [7.e+00, 7.e+00, 1.e-03, 7.e+00, 4.e+00, 4.e+00, 1.e-03, 4.e+00],\n",
       "       [7.e+00, 7.e+00, 7.e+00, 1.e-03, 4.e+00, 4.e+00, 4.e+00, 1.e-03],\n",
       "       [7.e+00, 7.e+00, 7.e+00, 7.e+00, 4.e+00, 4.e+00, 4.e+00, 4.e+00]])"
      ]
     },
     "execution_count": 7,
     "metadata": {},
     "output_type": "execute_result"
    }
   ],
   "source": [
    "np.array(variedLogicMatrix)"
   ]
  },
  {
   "cell_type": "code",
   "execution_count": null,
   "metadata": {},
   "outputs": [],
   "source": []
  }
 ],
 "metadata": {
  "kernelspec": {
   "display_name": "Python 3",
   "language": "python",
   "name": "python3"
  },
  "language_info": {
   "codemirror_mode": {
    "name": "ipython",
    "version": 3
   },
   "file_extension": ".py",
   "mimetype": "text/x-python",
   "name": "python",
   "nbconvert_exporter": "python",
   "pygments_lexer": "ipython3",
   "version": "3.6.4"
  }
 },
 "nbformat": 4,
 "nbformat_minor": 2
}
