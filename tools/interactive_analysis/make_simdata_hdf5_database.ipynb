{
 "cells": [
  {
   "cell_type": "code",
   "execution_count": 8,
   "metadata": {},
   "outputs": [],
   "source": [
    "import os\n",
    "import pathlib\n",
    "import tables as pyt \n",
    "import numpy as np\n",
    "import pandas as pd\n",
    "import matplotlib.pyplot as plt\n",
    "import matplotlib as mpl\n",
    "import matplotlib.cm as cm\n",
    "import scipy.io as sio\n",
    "\n",
    "from numpy import inf\n",
    "from matplotlib.ticker import FormatStrFormatter\n",
    "from sklearn import decomposition \n",
    "from module_tools import get_file_paths\n",
    "\n",
    "%matplotlib inline  \n",
    "#%matplotlib widget"
   ]
  },
  {
   "cell_type": "markdown",
   "metadata": {},
   "source": [
    "### Inputs & Paths"
   ]
  },
  {
   "cell_type": "code",
   "execution_count": 9,
   "metadata": {},
   "outputs": [],
   "source": [
    "# Simulation data and target trial folders\n",
    "all_trials_data_path = os.path.join('/', 'Users', 'camerongallivan', 'Research_Data', 'Simulation_Data_Py', '')\n",
    "trial_folders = ['Trial_0004-py']\n",
    "\n",
    "# Path to save the hdf5 file to\n",
    "output_path = os.path.join('outputs', 'simulation_outputs')\n",
    "hdf5_outputpath = os.path.join(output_path, 'simdata_3_models.h5')\n",
    "\n",
    "pathlib.Path(output_path).mkdir(parents=True, exist_ok=True)"
   ]
  },
  {
   "cell_type": "markdown",
   "metadata": {},
   "source": [
    "### Data Manipulation Functions"
   ]
  },
  {
   "cell_type": "code",
   "execution_count": 10,
   "metadata": {},
   "outputs": [],
   "source": [
    "def calc_prob2d(probvec, dimensions, dimensions_to_reduce=(2,3)):\n",
    "    prob_full_d = probvec.reshape(dimensions, order='F')  # Collapses probability along all system dimensions\n",
    "    prob_2d = np.sum(prob_full_d, axis=dimensions_to_reduce)  # Reduces probability to two dimensions\n",
    "    return prob_2d"
   ]
  },
  {
   "cell_type": "markdown",
   "metadata": {},
   "source": [
    "### Creating HDF5 Database"
   ]
  },
  {
   "cell_type": "raw",
   "metadata": {},
   "source": [
    "For each trial the database contains:\n",
    "-The generated model name\n",
    "-The parameter values simulated\n",
    "-The Dimensions of all Rate Matrices\n",
    "-Each parameter set's:\n",
    " -Reshaped Prob2D Vector (specific for PCA analysis)\n",
    " -ProbVec's Shannon's Entropy"
   ]
  },
  {
   "cell_type": "code",
   "execution_count": 11,
   "metadata": {},
   "outputs": [],
   "source": [
    "# Creating hdf5 file\n",
    "h5file = pyt.open_file(hdf5_outputpath, title='Simulation Trial Data', mode='w')"
   ]
  },
  {
   "cell_type": "code",
   "execution_count": 12,
   "metadata": {},
   "outputs": [],
   "source": [
    "for trial in trial_folders:\n",
    "    # Initializing trial group\n",
    "    current_group = h5file.create_group('/', trial)\n",
    "    \n",
    "    # Assigning Paths\n",
    "    trial_path = os.path.join(all_trials_data_path, trial)\n",
    "    trial_paths, parameters_df, simulation_files = get_file_paths.generate_trial_paths(trial_path)\n",
    "    total_sets = parameters_df.index[-1]\n",
    "    prob_vec_path = trial_paths['probvec']\n",
    "    rate_matrix_path = trial_paths['ratematrix']\n",
    "    system_probvec_entropies_path = trial_paths['system_entropies']\n",
    "    model_name_path = os.path.join(trial_path, 'model_name.txt')\n",
    "    \n",
    "    # Loading and saving parameters, model name, dimensions, entropy and prob2D\n",
    "    parameters_df.to_hdf(hdf5_outputpath, '/'+trial+'/paramValues')\n",
    "    current_group._v_title = 'Parameter Values saved with pd.to_hdf'\n",
    "    \n",
    "    with open(model_name_path) as file:\n",
    "        model_name = file.read()\n",
    "        current_group._v_attrs.model_name = model_name\n",
    "\n",
    "    dimensions = sio.loadmat(rate_matrix_path + simulation_files[0])['Dimensions'][0]\n",
    "    current_group._v_attrs.dimensions = dimensions\n",
    "    \n",
    "    system_probvec_entropies = np.nan_to_num(np.loadtxt(system_probvec_entropies_path)[:,1])\n",
    "    h5file.create_array(current_group, 'system_probvec_entropies', system_probvec_entropies, \"Shannon's Entropy of ProbVec\")\n",
    "    \n",
    "    phenotype_count = dimensions[0:2].prod()\n",
    "    prob_2d_vector_array = np.empty((total_sets, phenotype_count))\n",
    "    for i, input_file in enumerate(simulation_files):\n",
    "        prob_vec = sio.loadmat(prob_vec_path + input_file)['ProbVec']\n",
    "        prob_2D = calc_prob2d(prob_vec, dimensions)\n",
    "        prob_2D_vector = prob_2D.reshape(phenotype_count)\n",
    "        prob_2d_vector_array[i] = prob_2D_vector.T\n",
    "    h5file.create_array(current_group, 'prob_2d_vector_array', prob_2d_vector_array, \"Prob2D Vectorized Array\")\n",
    "    \n",
    "    prob_2d_vectors = np.abs(prob_2d_vector_array)\n",
    "    system_prob2d_entropies = np.real(-np.sum(np.multiply(prob_2d_vectors, np.log(prob_2d_vectors)), axis=1))\n",
    "    h5file.create_array(current_group, 'system_prob2d_entropies', system_prob2d_entropies, \"Shannon's Entropy of Prob2D\")"
   ]
  },
  {
   "cell_type": "code",
   "execution_count": 13,
   "metadata": {},
   "outputs": [],
   "source": [
    "h5file.close()"
   ]
  },
  {
   "cell_type": "markdown",
   "metadata": {},
   "source": [
    "### Checking HDF5 file contents"
   ]
  },
  {
   "cell_type": "code",
   "execution_count": 14,
   "metadata": {},
   "outputs": [],
   "source": [
    "h5file = pyt.open_file(hdf5_outputpath, mode='a')"
   ]
  },
  {
   "cell_type": "code",
   "execution_count": 15,
   "metadata": {},
   "outputs": [
    {
     "name": "stdout",
     "output_type": "stream",
     "text": [
      "MISAEx_N20\n",
      "[21 21  3  3]\n"
     ]
    },
    {
     "data": {
      "text/plain": [
       "array([0.11549412, 0.11356327, 0.11349749, ..., 0.54894044, 0.27122737,\n",
       "       0.93615986])"
      ]
     },
     "metadata": {},
     "output_type": "display_data"
    },
    {
     "name": "stdout",
     "output_type": "stream",
     "text": [
      "(1296, 441)\n",
      "\n",
      "MISAInc_N20\n",
      "[21 21  4  4]\n"
     ]
    },
    {
     "data": {
      "text/plain": [
       "array([0.11549438, 0.11356328, 0.11349749, ..., 0.54900639, 0.27087202,\n",
       "       0.93608807])"
      ]
     },
     "metadata": {},
     "output_type": "display_data"
    },
    {
     "name": "stdout",
     "output_type": "stream",
     "text": [
      "(1296, 441)\n",
      "\n",
      "MISAEx_Act_N20\n",
      "[21 21  3  3]\n"
     ]
    },
    {
     "data": {
      "text/plain": [
       "array([4.55034259, 5.14851221, 5.09010057, ..., 3.33513239, 3.32482612,\n",
       "       4.18954842])"
      ]
     },
     "metadata": {},
     "output_type": "display_data"
    },
    {
     "name": "stdout",
     "output_type": "stream",
     "text": [
      "(1296, 441)\n",
      "\n"
     ]
    }
   ],
   "source": [
    "for trial in trial_folders:\n",
    "    print(h5file.root[trial]._v_attrs.model_name)\n",
    "    print(h5file.root[trial]._v_attrs.dimensions)\n",
    "    sys_ent = np.asarray(h5file.root[trial].system_probvec_entropies)\n",
    "    display(sys_ent)\n",
    "    prob_2d_vector_array_tmp = np.asarray(h5file.root[trial].prob_2d_vector_array)\n",
    "    print(prob_2d_vector_array_tmp.shape)\n",
    "    print()"
   ]
  },
  {
   "cell_type": "code",
   "execution_count": 16,
   "metadata": {},
   "outputs": [
    {
     "name": "stdout",
     "output_type": "stream",
     "text": [
      "/ (RootGroup) 'Simulation Trial Data'\n",
      "/Trial_0020 (Group) 'Parameter Values saved with pd.to_hdf'\n",
      "/Trial_0021 (Group) 'Parameter Values saved with pd.to_hdf'\n",
      "/Trial_0022 (Group) 'Parameter Values saved with pd.to_hdf'\n",
      "\n",
      "/Trial_0020 (Group) 'Parameter Values saved with pd.to_hdf'\n",
      "/Trial_0020/paramValues (Group) ''\n",
      "/Trial_0020/prob_2d_vector_array (Array(1296, 441)) 'Prob2D Vectorized Array'\n",
      "/Trial_0020/system_prob2d_entropies (Array(1296,)) \"Shannon's Entropy of Prob2D\"\n",
      "/Trial_0020/system_probvec_entropies (Array(1296,)) \"Shannon's Entropy of ProbVec\"\n",
      "\n",
      "/Trial_0021 (Group) 'Parameter Values saved with pd.to_hdf'\n",
      "/Trial_0021/paramValues (Group) ''\n",
      "/Trial_0021/prob_2d_vector_array (Array(1296, 441)) 'Prob2D Vectorized Array'\n",
      "/Trial_0021/system_prob2d_entropies (Array(1296,)) \"Shannon's Entropy of Prob2D\"\n",
      "/Trial_0021/system_probvec_entropies (Array(1296,)) \"Shannon's Entropy of ProbVec\"\n",
      "\n",
      "/Trial_0022 (Group) 'Parameter Values saved with pd.to_hdf'\n",
      "/Trial_0022/paramValues (Group) ''\n",
      "/Trial_0022/prob_2d_vector_array (Array(1296, 441)) 'Prob2D Vectorized Array'\n",
      "/Trial_0022/system_prob2d_entropies (Array(1296,)) \"Shannon's Entropy of Prob2D\"\n",
      "/Trial_0022/system_probvec_entropies (Array(1296,)) \"Shannon's Entropy of ProbVec\"\n",
      "\n",
      "/Trial_0022/paramValues (Group) ''\n",
      "/Trial_0022/paramValues/axis0 (Array(8,)) ''\n",
      "/Trial_0022/paramValues/axis1 (Array(1296,)) ''\n",
      "/Trial_0022/paramValues/block0_items (Array(5,)) ''\n",
      "/Trial_0022/paramValues/block0_values (Array(1296, 5)) ''\n",
      "/Trial_0022/paramValues/block1_items (Array(3,)) ''\n",
      "/Trial_0022/paramValues/block1_values (Array(1296, 3)) ''\n",
      "\n",
      "/Trial_0021/paramValues (Group) ''\n",
      "/Trial_0021/paramValues/axis0 (Array(8,)) ''\n",
      "/Trial_0021/paramValues/axis1 (Array(1296,)) ''\n",
      "/Trial_0021/paramValues/block0_items (Array(5,)) ''\n",
      "/Trial_0021/paramValues/block0_values (Array(1296, 5)) ''\n",
      "/Trial_0021/paramValues/block1_items (Array(3,)) ''\n",
      "/Trial_0021/paramValues/block1_values (Array(1296, 3)) ''\n",
      "\n",
      "/Trial_0020/paramValues (Group) ''\n",
      "/Trial_0020/paramValues/axis0 (Array(8,)) ''\n",
      "/Trial_0020/paramValues/axis1 (Array(1296,)) ''\n",
      "/Trial_0020/paramValues/block0_items (Array(5,)) ''\n",
      "/Trial_0020/paramValues/block0_values (Array(1296, 5)) ''\n",
      "/Trial_0020/paramValues/block1_items (Array(3,)) ''\n",
      "/Trial_0020/paramValues/block1_values (Array(1296, 3)) ''\n",
      "\n",
      "outputs/simulation_outputs/simdata_3_models.h5 (File) 'Simulation Trial Data'\n",
      "Last modif.: 'Thu Mar  7 23:13:15 2019'\n",
      "Object Tree: \n",
      "/ (RootGroup) 'Simulation Trial Data'\n",
      "/Trial_0020 (Group) 'Parameter Values saved with pd.to_hdf'\n",
      "/Trial_0020/prob_2d_vector_array (Array(1296, 441)) 'Prob2D Vectorized Array'\n",
      "/Trial_0020/system_prob2d_entropies (Array(1296,)) \"Shannon's Entropy of Prob2D\"\n",
      "/Trial_0020/system_probvec_entropies (Array(1296,)) \"Shannon's Entropy of ProbVec\"\n",
      "/Trial_0021 (Group) 'Parameter Values saved with pd.to_hdf'\n",
      "/Trial_0021/prob_2d_vector_array (Array(1296, 441)) 'Prob2D Vectorized Array'\n",
      "/Trial_0021/system_prob2d_entropies (Array(1296,)) \"Shannon's Entropy of Prob2D\"\n",
      "/Trial_0021/system_probvec_entropies (Array(1296,)) \"Shannon's Entropy of ProbVec\"\n",
      "/Trial_0022 (Group) 'Parameter Values saved with pd.to_hdf'\n",
      "/Trial_0022/prob_2d_vector_array (Array(1296, 441)) 'Prob2D Vectorized Array'\n",
      "/Trial_0022/system_prob2d_entropies (Array(1296,)) \"Shannon's Entropy of Prob2D\"\n",
      "/Trial_0022/system_probvec_entropies (Array(1296,)) \"Shannon's Entropy of ProbVec\"\n",
      "/Trial_0022/paramValues (Group) ''\n",
      "/Trial_0022/paramValues/axis0 (Array(8,)) ''\n",
      "/Trial_0022/paramValues/axis1 (Array(1296,)) ''\n",
      "/Trial_0022/paramValues/block0_items (Array(5,)) ''\n",
      "/Trial_0022/paramValues/block0_values (Array(1296, 5)) ''\n",
      "/Trial_0022/paramValues/block1_items (Array(3,)) ''\n",
      "/Trial_0022/paramValues/block1_values (Array(1296, 3)) ''\n",
      "/Trial_0021/paramValues (Group) ''\n",
      "/Trial_0021/paramValues/axis0 (Array(8,)) ''\n",
      "/Trial_0021/paramValues/axis1 (Array(1296,)) ''\n",
      "/Trial_0021/paramValues/block0_items (Array(5,)) ''\n",
      "/Trial_0021/paramValues/block0_values (Array(1296, 5)) ''\n",
      "/Trial_0021/paramValues/block1_items (Array(3,)) ''\n",
      "/Trial_0021/paramValues/block1_values (Array(1296, 3)) ''\n",
      "/Trial_0020/paramValues (Group) ''\n",
      "/Trial_0020/paramValues/axis0 (Array(8,)) ''\n",
      "/Trial_0020/paramValues/axis1 (Array(1296,)) ''\n",
      "/Trial_0020/paramValues/block0_items (Array(5,)) ''\n",
      "/Trial_0020/paramValues/block0_values (Array(1296, 5)) ''\n",
      "/Trial_0020/paramValues/block1_items (Array(3,)) ''\n",
      "/Trial_0020/paramValues/block1_values (Array(1296, 3)) ''\n",
      "\n"
     ]
    }
   ],
   "source": [
    "for group in h5file.walk_groups():\n",
    "    print(group)\n",
    "    for val in group.__iter__():\n",
    "        print(val)\n",
    "    print()\n",
    "print(h5file)"
   ]
  },
  {
   "cell_type": "code",
   "execution_count": 17,
   "metadata": {},
   "outputs": [],
   "source": [
    "h5file.close()"
   ]
  },
  {
   "cell_type": "code",
   "execution_count": null,
   "metadata": {},
   "outputs": [],
   "source": []
  }
 ],
 "metadata": {
  "kernelspec": {
   "display_name": "Python 3",
   "language": "python",
   "name": "python3"
  },
  "language_info": {
   "codemirror_mode": {
    "name": "ipython",
    "version": 3
   },
   "file_extension": ".py",
   "mimetype": "text/x-python",
   "name": "python",
   "nbconvert_exporter": "python",
   "pygments_lexer": "ipython3",
   "version": "3.6.4"
  }
 },
 "nbformat": 4,
 "nbformat_minor": 2
}
