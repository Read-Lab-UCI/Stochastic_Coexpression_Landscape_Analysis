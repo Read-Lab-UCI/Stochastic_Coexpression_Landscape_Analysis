{
 "cells": [
  {
   "cell_type": "code",
   "execution_count": 1,
   "metadata": {},
   "outputs": [],
   "source": [
    "import h5py\n",
    "import numpy as np\n",
    "import pandas as pd\n",
    "import scipy.io as sio\n",
    "from scipy.sparse import csc_matrix\n",
    "from scipy.sparse import find"
   ]
  },
  {
   "cell_type": "code",
   "execution_count": 2,
   "metadata": {},
   "outputs": [],
   "source": [
    "np.set_printoptions(edgeitems=3, infstr='inf', linewidth=300, nanstr='nan', precision=4, suppress=False, threshold=1000, formatter=None)"
   ]
  },
  {
   "cell_type": "code",
   "execution_count": 3,
   "metadata": {},
   "outputs": [],
   "source": [
    "def allclose(A, B, atol = 1e-8):\n",
    "\n",
    "    # If you want to check matrix shapes as well\n",
    "    if np.array_equal(A.shape, B.shape)==0:\n",
    "        print('shape mismatch')\n",
    "        return False\n",
    "\n",
    "    r1,c1,v1 = find(A)\n",
    "    r2,c2,v2 = find(B)\n",
    "    \n",
    "    #display(v1.max(), v2.max())\n",
    "    #display(v1.min(), v2.min())\n",
    "    \n",
    "    mask = np.isclose(v1,v2, atol=atol)\n",
    "    #display(r1[~mask])\n",
    "    \n",
    "    index_match = np.array_equal(r1,r2) & np.array_equal(c1,c2)\n",
    "\n",
    "    if index_match==0:\n",
    "        return False\n",
    "    else:\n",
    "        print((~np.isclose(v1,v2, atol=atol)).sum())\n",
    "        return np.allclose(v1,v2, atol=atol)\n",
    "        #return np.isclose(v1,v2, atol=atol)"
   ]
  },
  {
   "cell_type": "markdown",
   "metadata": {},
   "source": [
    "### Multiple/Looping RateMatrix check"
   ]
  },
  {
   "cell_type": "code",
   "execution_count": 4,
   "metadata": {},
   "outputs": [
    {
     "name": "stdout",
     "output_type": "stream",
     "text": [
      "set_00001\n",
      "0\n",
      "True\n",
      "\n",
      "set_00002\n",
      "0\n",
      "True\n",
      "\n",
      "set_00003\n",
      "0\n",
      "True\n",
      "\n",
      "set_00004\n",
      "0\n",
      "True\n",
      "\n",
      "set_00005\n",
      "0\n",
      "True\n",
      "\n",
      "set_00006\n",
      "0\n",
      "True\n",
      "\n",
      "set_00007\n",
      "0\n",
      "True\n",
      "\n",
      "set_00008\n",
      "0\n",
      "True\n",
      "\n",
      "set_00009\n",
      "0\n",
      "True\n",
      "\n",
      "set_00010\n",
      "0\n",
      "True\n",
      "\n"
     ]
    }
   ],
   "source": [
    "for i in range(1,11):\n",
    "    # Loading matlab version\n",
    "    setname = 'set_{:05d}'.format(i)\n",
    "    print(setname)\n",
    "    rm_ml_path = 'Simulation_Results/Trial_0001/RateMatrix/'+setname+'.mat'\n",
    "    rm_ml = sio.loadmat(rm_ml_path)['RateMatrix']\n",
    "\n",
    "    rm_py_path = 'Simulation_Results/Trial_0002-py/simulation_data.h5'\n",
    "    h5_file = h5py.File(rm_py_path, \"r\")\n",
    "    rm_py_group = h5_file['RateMatrix'][setname]\n",
    "    rm_py = csc_matrix((rm_py_group['data'], rm_py_group['indices'], rm_py_group['indptr']),shape=tuple(rm_py_group.attrs['shape']))\n",
    "    h5_file.close()\n",
    "\n",
    "    print(allclose(rm_ml, rm_py))\n",
    "    print('')"
   ]
  },
  {
   "cell_type": "markdown",
   "metadata": {},
   "source": [
    "### Single RateMatrix check"
   ]
  },
  {
   "cell_type": "code",
   "execution_count": 25,
   "metadata": {},
   "outputs": [
    {
     "name": "stdout",
     "output_type": "stream",
     "text": [
      "14402\n",
      "False\n"
     ]
    }
   ],
   "source": [
    "# Loading matlab version\n",
    "rm_ml_path = 'Simulation_Results/Trial_0001/RateMatrix/set_00002.mat'\n",
    "rm_ml = sio.loadmat(rm_ml_path)['RateMatrix']\n",
    "\n",
    "rm_py_path = 'Simulation_Results/Trial_0002-py/simulation_data.h5'\n",
    "h5_file = h5py.File(rm_py_path, \"r\")\n",
    "rm_py_group = h5_file['RateMatrix']['set_00002']\n",
    "rm_py = csc_matrix((rm_py_group['data'], rm_py_group['indices'], rm_py_group['indptr']),shape=tuple(rm_py_group.attrs['shape']))\n",
    "h5_file.close()\n",
    "\n",
    "print(allclose(rm_ml, rm_py))\n",
    "\n",
    "r1,c1,v1 = find(rm_ml)\n",
    "r2,c2,v2 = find(rm_py)\n",
    "mask = np.isclose(v1,v2)"
   ]
  },
  {
   "cell_type": "code",
   "execution_count": 30,
   "metadata": {},
   "outputs": [
    {
     "name": "stdout",
     "output_type": "stream",
     "text": [
      "-2.00021 -1.00022\n"
     ]
    }
   ],
   "source": [
    "print(v1[~mask][0], v2[~mask][0])"
   ]
  },
  {
   "cell_type": "markdown",
   "metadata": {},
   "source": [
    "### Prob2D check"
   ]
  },
  {
   "cell_type": "code",
   "execution_count": 7,
   "metadata": {},
   "outputs": [],
   "source": [
    "# Loading matlab version\n",
    "p2d_ml_path = '/Users/camerongallivan/Research/Stochastic_GRN_Project/Compute_Rate_Matrix_Python/Compute_Rate_Matrix_Matlab/prob2d.mat'\n",
    "p2d_ml = sio.loadmat(p2d_ml_path)['Prob2D']"
   ]
  },
  {
   "cell_type": "code",
   "execution_count": 8,
   "metadata": {},
   "outputs": [],
   "source": [
    "rm_py_path = 'Simulation_Results/Trial_0002-py/simulation_data.h5'\n",
    "h5_file = h5py.File(rm_py_path, \"r\")\n",
    "p2d_py = np.array(h5_file['Prob2D']['set_00001'])\n",
    "h5_file.close()\n",
    "#p2d_py[p2d_py<1e-6]=0"
   ]
  },
  {
   "cell_type": "code",
   "execution_count": 9,
   "metadata": {},
   "outputs": [
    {
     "data": {
      "text/plain": [
       "True"
      ]
     },
     "execution_count": 9,
     "metadata": {},
     "output_type": "execute_result"
    }
   ],
   "source": [
    "np.allclose(p2d_ml, p2d_py)"
   ]
  },
  {
   "cell_type": "code",
   "execution_count": null,
   "metadata": {},
   "outputs": [],
   "source": []
  }
 ],
 "metadata": {
  "kernelspec": {
   "display_name": "Python 3",
   "language": "python",
   "name": "python3"
  },
  "language_info": {
   "codemirror_mode": {
    "name": "ipython",
    "version": 3
   },
   "file_extension": ".py",
   "mimetype": "text/x-python",
   "name": "python",
   "nbconvert_exporter": "python",
   "pygments_lexer": "ipython3",
   "version": "3.6.4"
  }
 },
 "nbformat": 4,
 "nbformat_minor": 2
}
